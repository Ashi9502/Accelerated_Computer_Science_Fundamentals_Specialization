{
  "nbformat": 4,
  "nbformat_minor": 0,
  "metadata": {
    "colab": {
      "provenance": [],
      "authorship_tag": "ABX9TyNH29vbAKOIx3gksKrA8F3O",
      "include_colab_link": true
    },
    "kernelspec": {
      "name": "python3",
      "display_name": "Python 3"
    },
    "language_info": {
      "name": "python"
    }
  },
  "cells": [
    {
      "cell_type": "markdown",
      "metadata": {
        "id": "view-in-github",
        "colab_type": "text"
      },
      "source": [
        "<a href=\"https://colab.research.google.com/github/Ashi9502/Accelerated_Computer_Science_Fundamentals_Specialization/blob/master/Logistic_regression.ipynb\" target=\"_parent\"><img src=\"https://colab.research.google.com/assets/colab-badge.svg\" alt=\"Open In Colab\"/></a>"
      ]
    },
    {
      "cell_type": "code",
      "execution_count": 1,
      "metadata": {
        "id": "zMUHNS8in-9V"
      },
      "outputs": [],
      "source": [
        "import numpy as np\n",
        "import pandas as pd\n",
        "import scipy.optimize as op\n",
        "import matplotlib.pyplot as plt\n",
        "from sklearn import datasets, linear_model, metrics\n",
        "from sklearn.model_selection import train_test_split\n"
      ]
    },
    {
      "cell_type": "code",
      "source": [
        "df = pd.read_csv('ex2data1.csv')"
      ],
      "metadata": {
        "id": "waiiFFE1ocVp"
      },
      "execution_count": 2,
      "outputs": []
    },
    {
      "cell_type": "code",
      "source": [
        "df['e1score'].describe()"
      ],
      "metadata": {
        "colab": {
          "base_uri": "https://localhost:8080/"
        },
        "id": "fCRJjMTNohg8",
        "outputId": "ee0d5251-faab-49f1-d216-9633a31235d8"
      },
      "execution_count": 3,
      "outputs": [
        {
          "output_type": "execute_result",
          "data": {
            "text/plain": [
              "count    100.000000\n",
              "mean      65.644274\n",
              "std       19.458222\n",
              "min       30.058822\n",
              "25%       50.919511\n",
              "50%       67.032988\n",
              "75%       80.212529\n",
              "max       99.827858\n",
              "Name: e1score, dtype: float64"
            ]
          },
          "metadata": {},
          "execution_count": 3
        }
      ]
    },
    {
      "cell_type": "code",
      "source": [
        "df['e2score'].describe()"
      ],
      "metadata": {
        "colab": {
          "base_uri": "https://localhost:8080/"
        },
        "id": "58-WF-D6opfI",
        "outputId": "e2507e0c-c1cf-4731-b9eb-90e28e98eade"
      },
      "execution_count": 4,
      "outputs": [
        {
          "output_type": "execute_result",
          "data": {
            "text/plain": [
              "count    100.000000\n",
              "mean      66.221998\n",
              "std       18.582783\n",
              "min       30.603263\n",
              "25%       48.179205\n",
              "50%       67.682381\n",
              "75%       79.360605\n",
              "max       98.869436\n",
              "Name: e2score, dtype: float64"
            ]
          },
          "metadata": {},
          "execution_count": 4
        }
      ]
    },
    {
      "cell_type": "code",
      "source": [
        "def plot_data():\n",
        "    # positive\n",
        "    p1 = plt.scatter(\n",
        "        df[df.admission == 1]['e1score'],\n",
        "        df[df.admission == 1]['e2score'],\n",
        "        color=\"r\",\n",
        "        marker=\"+\",\n",
        "        s=30\n",
        "    )\n",
        "\n",
        "    # negative\n",
        "    p2 = plt.scatter(\n",
        "        df[df.admission == 0]['e1score'],\n",
        "        df[df.admission == 0]['e2score'],\n",
        "        color=\"y\",\n",
        "        marker=\"o\",\n",
        "        s=30\n",
        "    )\n",
        "\n",
        "    # putting labels\n",
        "    plt.xlabel('e1 score')\n",
        "    plt.ylabel('e2 score')\n",
        "    plt.legend([p1, p2], ['admitted', 'not admitted'], loc='lower left')\n",
        "\n",
        "    # title\n",
        "    plt.title('Data Visualization')\n",
        "\n",
        "    # function to show plot\n",
        "    plt.show()\n",
        "plot_data()"
      ],
      "metadata": {
        "colab": {
          "base_uri": "https://localhost:8080/",
          "height": 472
        },
        "id": "qQabesBOotFW",
        "outputId": "1e714a56-c3bc-4da4-9a2f-0555d0da3392"
      },
      "execution_count": 6,
      "outputs": [
        {
          "output_type": "display_data",
          "data": {
            "text/plain": [
              "<Figure size 640x480 with 1 Axes>"
            ],
            "image/png": "[encoded data removed]"
          },
          "metadata": {}
        }
      ]
    },
    {
      "cell_type": "code",
      "source": [
        "X = pd.DataFrame([df.e1score, df.e2score]).transpose().to_numpy()\n",
        "m, n = X.shape\n",
        "\n",
        "X = np.append(np.ones([m, 1]), X, axis=1)\n",
        "X.shape"
      ],
      "metadata": {
        "colab": {
          "base_uri": "https://localhost:8080/"
        },
        "id": "XKchIARfo1gA",
        "outputId": "f0f06d82-4a7a-466b-b85a-025d49fbe34a"
      },
      "execution_count": 7,
      "outputs": [
        {
          "output_type": "execute_result",
          "data": {
            "text/plain": [
              "(100, 3)"
            ]
          },
          "metadata": {},
          "execution_count": 7
        }
      ]
    },
    {
      "cell_type": "code",
      "source": [
        "y = df.admission.to_numpy()\n",
        "y.size"
      ],
      "metadata": {
        "colab": {
          "base_uri": "https://localhost:8080/"
        },
        "id": "Ds7WKPJoo6z2",
        "outputId": "47e874e2-b333-4f58-ed27-ca6aa28805d5"
      },
      "execution_count": 8,
      "outputs": [
        {
          "output_type": "execute_result",
          "data": {
            "text/plain": [
              "100"
            ]
          },
          "metadata": {},
          "execution_count": 8
        }
      ]
    },
    {
      "cell_type": "code",
      "source": [
        "def sigmoid(z):\n",
        "    return np.ones(z.shape) / (1 + np.exp(-z))\n",
        "\n",
        "sigmoid(np.zeros([1,1]))"
      ],
      "metadata": {
        "colab": {
          "base_uri": "https://localhost:8080/"
        },
        "id": "MuKvru0So9XS",
        "outputId": "f1086f6b-6dad-444e-8944-e7be4f378ca4"
      },
      "execution_count": 9,
      "outputs": [
        {
          "output_type": "execute_result",
          "data": {
            "text/plain": [
              "array([[0.5]])"
            ]
          },
          "metadata": {},
          "execution_count": 9
        }
      ]
    },
    {
      "cell_type": "code",
      "source": [
        "def sigmoid_cost(theta, X, y):\n",
        "    m = y.size\n",
        "    z = X.dot(theta)\n",
        "    h = sigmoid(z)\n",
        "    J = np.sum(- y.dot(np.log(h)) - (1-y).dot(np.log(1-h)))\n",
        "#     J = -y.transpose().dot(np.log(h)) - (1-y.transpose()).dot(np.log(1-h))\n",
        "    return J / m\n",
        "\n",
        "sigmoid_cost(\n",
        "    theta=np.zeros([n+1, 1]),\n",
        "    X=X,\n",
        "    y=y\n",
        ")"
      ],
      "metadata": {
        "colab": {
          "base_uri": "https://localhost:8080/"
        },
        "id": "ELarRN5So_jN",
        "outputId": "3acd5e65-d01c-410e-9c43-130203eb95fb"
      },
      "execution_count": 10,
      "outputs": [
        {
          "output_type": "execute_result",
          "data": {
            "text/plain": [
              "0.6931471805599453"
            ]
          },
          "metadata": {},
          "execution_count": 10
        }
      ]
    },
    {
      "cell_type": "code",
      "source": [
        "def sigmoid_grad(theta, X, y):\n",
        "    m = y.size\n",
        "    z = X.dot(theta)\n",
        "    h = sigmoid(z)\n",
        "    grad = 1/m * np.sum(np.dot((h-y), X), axis=0)\n",
        "#     grad = 1/m * (h-y).transpose().dot(X)\n",
        "    return grad\n",
        "\n",
        "sigmoid_grad(\n",
        "    theta=np.zeros([n+1, 1]),\n",
        "    X=X,\n",
        "    y=y\n",
        ")"
      ],
      "metadata": {
        "colab": {
          "base_uri": "https://localhost:8080/"
        },
        "id": "0DlniiU5pDag",
        "outputId": "0e746041-904b-40c7-b2f4-0320b170b5dc"
      },
      "execution_count": 11,
      "outputs": [
        {
          "output_type": "execute_result",
          "data": {
            "text/plain": [
              "array([  -10.        , -1200.92165893, -1126.28422055])"
            ]
          },
          "metadata": {},
          "execution_count": 11
        }
      ]
    },
    {
      "cell_type": "code",
      "source": [
        "options = {'full_output': True, 'maxiter': 400}\n",
        "theta, cost, _, _, _ = op.fmin(\n",
        "    lambda t: sigmoid_cost(t, X, y),\n",
        "    np.zeros([n+1, 1]),\n",
        "    **options\n",
        ")\n",
        "print()\n",
        "print('theta:', theta)\n",
        "print('cost:', cost)"
      ],
      "metadata": {
        "colab": {
          "base_uri": "https://localhost:8080/"
        },
        "id": "oMGwEnFapHum",
        "outputId": "e5d283c2-a006-4f42-c3db-4a11a576eae7"
      },
      "execution_count": 12,
      "outputs": [
        {
          "output_type": "stream",
          "name": "stdout",
          "text": [
            "Optimization terminated successfully.\n",
            "         Current function value: 0.203498\n",
            "         Iterations: 157\n",
            "         Function evaluations: 287\n",
            "\n",
            "theta: [-25.16130062   0.20623142   0.20147143]\n",
            "cost: 0.20349770159021519\n"
          ]
        }
      ]
    },
    {
      "cell_type": "code",
      "source": [
        "def plot_decision_boundary():\n",
        "    # plotting the actual points as scatter plot\n",
        "    p1 = plt.scatter(\n",
        "        df[df.admission == 1]['e1score'],\n",
        "        df[df.admission == 1]['e2score'],\n",
        "        color=\"r\",\n",
        "        marker=\"+\",\n",
        "        s=30\n",
        "    )\n",
        "    p2 = plt.scatter(\n",
        "        df[df.admission == 0]['e1score'],\n",
        "        df[df.admission == 0]['e2score'],\n",
        "        color=\"y\",\n",
        "        marker=\"o\",\n",
        "        s=30\n",
        "    )\n",
        "    px = np.array([np.min(X[:,1])-2, np.max(X[:,2])+2])\n",
        "    py = (-1 / theta[2]) * (theta[1]*px + theta[0])\n",
        "    plt.plot(px, py)\n",
        "\n",
        "    # putting labels\n",
        "    plt.xlabel('e1 score')\n",
        "    plt.ylabel('e2 score')\n",
        "    plt.legend([p1, p2], ['admitted', 'not admitted'], loc='lower left')\n",
        "    plt.title('Decision Boundary')\n",
        "\n",
        "    # function to show plot\n",
        "    plt.show()\n",
        "\n",
        "plot_decision_boundary()"
      ],
      "metadata": {
        "colab": {
          "base_uri": "https://localhost:8080/",
          "height": 472
        },
        "id": "_AooBiHJpK0g",
        "outputId": "403ba80c-2def-453f-a87f-0862a89ee19d"
      },
      "execution_count": 14,
      "outputs": [
        {
          "output_type": "display_data",
          "data": {
            "text/plain": [
              "<Figure size 640x480 with 1 Axes>"
            ],
            "image/png": "[encoded data removed]"
          },
          "metadata": {}
        }
      ]
    },
    {
      "cell_type": "code",
      "source": [
        "def predict(e1score, e2score):\n",
        "    print(\"For a student with scores %s and %s, we predict an admission probability of %f\" % (\n",
        "        e1score,\n",
        "        e2score,\n",
        "        sigmoid(np.array([1, e1score, e2score]).dot(theta))\n",
        "    ))"
      ],
      "metadata": {
        "id": "i1w8mIo0pRFl"
      },
      "execution_count": 15,
      "outputs": []
    },
    {
      "cell_type": "code",
      "source": [
        "predict(45, 85)"
      ],
      "metadata": {
        "colab": {
          "base_uri": "https://localhost:8080/"
        },
        "id": "mcQ4HD4wpWR-",
        "outputId": "f1559ef0-6b5c-451d-bf53-ce942a9d4c71"
      },
      "execution_count": 16,
      "outputs": [
        {
          "output_type": "stream",
          "name": "stdout",
          "text": [
            "For a student with scores 45 and 85, we predict an admission probability of 0.776292\n"
          ]
        }
      ]
    },
    {
      "cell_type": "code",
      "source": [
        "predict(30, 45)"
      ],
      "metadata": {
        "colab": {
          "base_uri": "https://localhost:8080/"
        },
        "id": "ErxQCqKXpZUA",
        "outputId": "ad5ec5b3-10a6-4eb9-cb76-7e72affeb31f"
      },
      "execution_count": 17,
      "outputs": [
        {
          "output_type": "stream",
          "name": "stdout",
          "text": [
            "For a student with scores 30 and 45, we predict an admission probability of 0.000050\n"
          ]
        }
      ]
    },
    {
      "cell_type": "code",
      "source": [],
      "metadata": {
        "id": "Szb0OXuQpbMM"
      },
      "execution_count": null,
      "outputs": []
    }
  ]
}